{
 "cells": [
  {
   "cell_type": "markdown",
   "metadata": {},
   "source": [
    "# Practice 4: Fractional radiotherapy effects models with tumor regrowth"
   ]
  },
  {
   "cell_type": "markdown",
   "metadata": {},
   "source": [
    "If a tumor is treated with a radiation dose d (Gy), a fraction of tumor cells S f survive, which subsequently will contribute to the regrowth of the total number of cells in the N tumor. In the treatment of a tumor a repeated (usually daily) application of a certain number of individual doses (fractions) is performed."
   ]
  },
  {
   "cell_type": "markdown",
   "metadata": {},
   "source": [
    "<img src=\"img/im.png\">"
   ]
  },
  {
   "cell_type": "markdown",
   "metadata": {},
   "source": [
    "In this practice, we intend to study with a very simple model the use of radiation as a therapeutic strategy in several different scenarios. We will assume that the usual treatment schedule is 30 consecutive sessions and that the tumor only receives radiotherapy. The initial number of cells in the tumor at t = 0, time of detection is $N = 10^9$ and the maximum number that supports the tissue is $N_{max} = 3 × 10^{10}$. Treatment begins seven days after diagnosis. We will assume that the patient survives as long as the tumor does not reach 70% of its maximum size.\n",
    "<ol>\n",
    "    <li>In the first place, it is requested to study the case of radiosensitive tumors, with a high effectiveness of the radiation, which translates into a fraction of survival after each dose of 45% of the tumor cells. It is asked to consider independently the cases of a rapidly growing tumor (mean cell doubling time of the order of 20 days, case I) and another case in which the tumor is slower growing (cell doubling time of the order of 80 days), case II).</li>\n",
    "    <ol>\n",
    "        <li>Investigate the tumor response and discuss if it is possible to eliminate it with one dose per day for one month.</li>\n",
    "        <li>Is it possible to eliminate the tumor with one dose per week? And with one dose per month?</li>\n",
    "        <li>In all cases, discuss what the patient's survival would be.</li>\n",
    "    </ol>\n",
    "    <li>In second place, it is requested to consider low radiosensitive tumors with a cell survival fraction after each dose of 85% of the tumor cells. It is asked to consider independently the cases of a rapidly growing tumor (mean cell doubling time of the order of 20 days, case III) and another case in which the tumor is slower growing (cell doubling time of the order of 80 days). , case IV).</li>\n",
    "    <ol>\n",
    "        <li>Investigate the tumor response and discuss if it is possible to eliminate it with one dose per day for one month.</li>\n",
    "        <li>Is it possible to eliminate the tumor with one dose per week? And with one dose per month?</li>\n",
    "        <li>In all cases, discuss what the patient's survival would be.</li>\n",
    "        <li>Find what is the spacing between doses that achieves a greater survival of the patient.</li>\n",
    "    </ol>\n",
    "    <li>Summarizes the results of cases I-IV and discusses the therapeutic implications of them.</li>\n",
    "    <li>Discuss what elements could be added to refine the model.</li>\n",
    "    <li>Will anything change if radiation therapy, in addition to killing cells, stimulates proliferation?</li>\n",
    "</ol>\n",
    "\n",
    "**The optfrac.m file, available in CampusVirtual, can be used as a basis for calculations**"
   ]
  },
  {
   "cell_type": "code",
   "execution_count": null,
   "metadata": {},
   "outputs": [],
   "source": []
  }
 ],
 "metadata": {
  "kernelspec": {
   "display_name": "Python 3",
   "language": "python",
   "name": "python3"
  },
  "language_info": {
   "codemirror_mode": {
    "name": "ipython",
    "version": 3
   },
   "file_extension": ".py",
   "mimetype": "text/x-python",
   "name": "python",
   "nbconvert_exporter": "python",
   "pygments_lexer": "ipython3",
   "version": "3.7.1"
  }
 },
 "nbformat": 4,
 "nbformat_minor": 2
}
